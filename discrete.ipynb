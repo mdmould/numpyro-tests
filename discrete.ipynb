{
 "cells": [
  {
   "cell_type": "code",
   "execution_count": 1,
   "id": "a274f671-ff95-449e-b88f-ac61590d56b6",
   "metadata": {},
   "outputs": [],
   "source": [
    "import jax\n",
    "import jax.numpy as jnp\n",
    "import numpyro"
   ]
  },
  {
   "cell_type": "code",
   "execution_count": 2,
   "id": "4d2ce1b3-ddcf-440d-b7fd-2e31c39b0087",
   "metadata": {},
   "outputs": [],
   "source": [
    "def run_sampler(kernel, *args, **kwargs):\n",
    "    mcmc = numpyro.infer.MCMC(kernel, num_warmup = 100, num_samples = 100)\n",
    "    mcmc.run(jax.random.PRNGKey(0), *args, **kwargs)\n",
    "    mcmc.print_summary();\n",
    "    return mcmc.get_samples()"
   ]
  },
  {
   "cell_type": "markdown",
   "id": "484fd4e6-7f04-43f1-b35e-b9bd7617a107",
   "metadata": {},
   "source": [
    "## model with discrete latent variable"
   ]
  },
  {
   "cell_type": "code",
   "execution_count": 3,
   "id": "d8bb4409-e93d-4964-9d83-aba336d595bd",
   "metadata": {},
   "outputs": [],
   "source": [
    "def model():\n",
    "    x = numpyro.sample('x', numpyro.distributions.DiscreteUniform())"
   ]
  },
  {
   "cell_type": "markdown",
   "id": "8beeb7db-4b58-4636-b009-32e97b806cb6",
   "metadata": {},
   "source": [
    "#### NUTS"
   ]
  },
  {
   "cell_type": "code",
   "execution_count": 4,
   "id": "716cc692-0e33-432c-bd00-622ae805ce11",
   "metadata": {},
   "outputs": [],
   "source": [
    "kernel = numpyro.infer.NUTS(model)"
   ]
  },
  {
   "cell_type": "code",
   "execution_count": 5,
   "id": "980e06e7-303f-474a-b15a-7e7d11d7f7ff",
   "metadata": {},
   "outputs": [
    {
     "name": "stderr",
     "output_type": "stream",
     "text": [
      "/tmp/ipykernel_17826/2543069246.py:3: FutureWarning: Some algorithms will automatically enumerate the discrete latent site x of your model. In the future, enumerated sites need to be marked with `infer={'enumerate': 'parallel'}`.\n",
      "  mcmc.run(jax.random.PRNGKey(0), *args, **kwargs)\n",
      "sample: 100%|██████████| 200/200 [00:00<00:00, 217.74it/s, 1 steps of size 4.65e+18. acc. prob=1.00]\n"
     ]
    },
    {
     "ename": "ValueError",
     "evalue": "max() arg is an empty sequence",
     "output_type": "error",
     "traceback": [
      "\u001b[0;31m---------------------------------------------------------------------------\u001b[0m",
      "\u001b[0;31mValueError\u001b[0m                                Traceback (most recent call last)",
      "Cell \u001b[0;32mIn[5], line 1\u001b[0m\n\u001b[0;32m----> 1\u001b[0m \u001b[43mrun_sampler\u001b[49m\u001b[43m(\u001b[49m\u001b[43mkernel\u001b[49m\u001b[43m)\u001b[49m\n",
      "Cell \u001b[0;32mIn[2], line 4\u001b[0m, in \u001b[0;36mrun_sampler\u001b[0;34m(kernel, *args, **kwargs)\u001b[0m\n\u001b[1;32m      2\u001b[0m mcmc \u001b[38;5;241m=\u001b[39m numpyro\u001b[38;5;241m.\u001b[39minfer\u001b[38;5;241m.\u001b[39mMCMC(kernel, num_warmup \u001b[38;5;241m=\u001b[39m \u001b[38;5;241m100\u001b[39m, num_samples \u001b[38;5;241m=\u001b[39m \u001b[38;5;241m100\u001b[39m)\n\u001b[1;32m      3\u001b[0m mcmc\u001b[38;5;241m.\u001b[39mrun(jax\u001b[38;5;241m.\u001b[39mrandom\u001b[38;5;241m.\u001b[39mPRNGKey(\u001b[38;5;241m0\u001b[39m), \u001b[38;5;241m*\u001b[39margs, \u001b[38;5;241m*\u001b[39m\u001b[38;5;241m*\u001b[39mkwargs)\n\u001b[0;32m----> 4\u001b[0m \u001b[43mmcmc\u001b[49m\u001b[38;5;241;43m.\u001b[39;49m\u001b[43mprint_summary\u001b[49m\u001b[43m(\u001b[49m\u001b[43m)\u001b[49m;\n\u001b[1;32m      5\u001b[0m \u001b[38;5;28;01mreturn\u001b[39;00m mcmc\u001b[38;5;241m.\u001b[39mget_samples()\n",
      "File \u001b[0;32m~/.pyenv/versions/playground/lib/python3.11/site-packages/numpyro/infer/mcmc.py:717\u001b[0m, in \u001b[0;36mMCMC.print_summary\u001b[0;34m(self, prob, exclude_deterministic)\u001b[0m\n\u001b[1;32m    711\u001b[0m     \u001b[38;5;28;01mif\u001b[39;00m \u001b[38;5;28misinstance\u001b[39m(state_sample_field, \u001b[38;5;28mdict\u001b[39m):\n\u001b[1;32m    712\u001b[0m         sites \u001b[38;5;241m=\u001b[39m {\n\u001b[1;32m    713\u001b[0m             k: v\n\u001b[1;32m    714\u001b[0m             \u001b[38;5;28;01mfor\u001b[39;00m k, v \u001b[38;5;129;01min\u001b[39;00m \u001b[38;5;28mself\u001b[39m\u001b[38;5;241m.\u001b[39m_states[\u001b[38;5;28mself\u001b[39m\u001b[38;5;241m.\u001b[39m_sample_field]\u001b[38;5;241m.\u001b[39mitems()\n\u001b[1;32m    715\u001b[0m             \u001b[38;5;28;01mif\u001b[39;00m k \u001b[38;5;129;01min\u001b[39;00m state_sample_field\n\u001b[1;32m    716\u001b[0m         }\n\u001b[0;32m--> 717\u001b[0m \u001b[43mprint_summary\u001b[49m\u001b[43m(\u001b[49m\u001b[43msites\u001b[49m\u001b[43m,\u001b[49m\u001b[43m \u001b[49m\u001b[43mprob\u001b[49m\u001b[38;5;241;43m=\u001b[39;49m\u001b[43mprob\u001b[49m\u001b[43m)\u001b[49m\n\u001b[1;32m    718\u001b[0m extra_fields \u001b[38;5;241m=\u001b[39m \u001b[38;5;28mself\u001b[39m\u001b[38;5;241m.\u001b[39mget_extra_fields()\n\u001b[1;32m    719\u001b[0m \u001b[38;5;28;01mif\u001b[39;00m \u001b[38;5;124m\"\u001b[39m\u001b[38;5;124mdiverging\u001b[39m\u001b[38;5;124m\"\u001b[39m \u001b[38;5;129;01min\u001b[39;00m extra_fields:\n",
      "File \u001b[0;32m~/.pyenv/versions/playground/lib/python3.11/site-packages/numpyro/diagnostics.py:302\u001b[0m, in \u001b[0;36mprint_summary\u001b[0;34m(samples, prob, group_by_chain)\u001b[0m\n\u001b[1;32m    296\u001b[0m summary_dict \u001b[38;5;241m=\u001b[39m summary(samples, prob, group_by_chain\u001b[38;5;241m=\u001b[39m\u001b[38;5;28;01mTrue\u001b[39;00m)\n\u001b[1;32m    298\u001b[0m row_names \u001b[38;5;241m=\u001b[39m {\n\u001b[1;32m    299\u001b[0m     k: k \u001b[38;5;241m+\u001b[39m \u001b[38;5;124m\"\u001b[39m\u001b[38;5;124m[\u001b[39m\u001b[38;5;124m\"\u001b[39m \u001b[38;5;241m+\u001b[39m \u001b[38;5;124m\"\u001b[39m\u001b[38;5;124m,\u001b[39m\u001b[38;5;124m\"\u001b[39m\u001b[38;5;241m.\u001b[39mjoin(\u001b[38;5;28mmap\u001b[39m(\u001b[38;5;28;01mlambda\u001b[39;00m x: \u001b[38;5;28mstr\u001b[39m(x \u001b[38;5;241m-\u001b[39m \u001b[38;5;241m1\u001b[39m), v\u001b[38;5;241m.\u001b[39mshape[\u001b[38;5;241m2\u001b[39m:])) \u001b[38;5;241m+\u001b[39m \u001b[38;5;124m\"\u001b[39m\u001b[38;5;124m]\u001b[39m\u001b[38;5;124m\"\u001b[39m\n\u001b[1;32m    300\u001b[0m     \u001b[38;5;28;01mfor\u001b[39;00m k, v \u001b[38;5;129;01min\u001b[39;00m samples\u001b[38;5;241m.\u001b[39mitems()\n\u001b[1;32m    301\u001b[0m }\n\u001b[0;32m--> 302\u001b[0m max_len \u001b[38;5;241m=\u001b[39m \u001b[38;5;28mmax\u001b[39m(\u001b[38;5;28;43mmax\u001b[39;49m\u001b[43m(\u001b[49m\u001b[38;5;28;43mmap\u001b[39;49m\u001b[43m(\u001b[49m\u001b[38;5;28;43;01mlambda\u001b[39;49;00m\u001b[43m \u001b[49m\u001b[43mx\u001b[49m\u001b[43m:\u001b[49m\u001b[43m \u001b[49m\u001b[38;5;28;43mlen\u001b[39;49m\u001b[43m(\u001b[49m\u001b[43mx\u001b[49m\u001b[43m)\u001b[49m\u001b[43m,\u001b[49m\u001b[43m \u001b[49m\u001b[43mrow_names\u001b[49m\u001b[38;5;241;43m.\u001b[39;49m\u001b[43mvalues\u001b[49m\u001b[43m(\u001b[49m\u001b[43m)\u001b[49m\u001b[43m)\u001b[49m\u001b[43m)\u001b[49m, \u001b[38;5;241m10\u001b[39m)\n\u001b[1;32m    303\u001b[0m name_format \u001b[38;5;241m=\u001b[39m \u001b[38;5;124m\"\u001b[39m\u001b[38;5;124m{\u001b[39m\u001b[38;5;124m:>\u001b[39m\u001b[38;5;124m\"\u001b[39m \u001b[38;5;241m+\u001b[39m \u001b[38;5;28mstr\u001b[39m(max_len) \u001b[38;5;241m+\u001b[39m \u001b[38;5;124m\"\u001b[39m\u001b[38;5;124m}\u001b[39m\u001b[38;5;124m\"\u001b[39m\n\u001b[1;32m    304\u001b[0m header_format \u001b[38;5;241m=\u001b[39m name_format \u001b[38;5;241m+\u001b[39m \u001b[38;5;124m\"\u001b[39m\u001b[38;5;124m \u001b[39m\u001b[38;5;132;01m{:>9}\u001b[39;00m\u001b[38;5;124m\"\u001b[39m \u001b[38;5;241m*\u001b[39m \u001b[38;5;241m7\u001b[39m\n",
      "\u001b[0;31mValueError\u001b[0m: max() arg is an empty sequence"
     ]
    }
   ],
   "source": [
    "run_sampler(kernel)"
   ]
  },
  {
   "cell_type": "markdown",
   "id": "0dad1c81-156f-4d5f-87ac-e3babe634f74",
   "metadata": {},
   "source": [
    "#### HMC"
   ]
  },
  {
   "cell_type": "code",
   "execution_count": 6,
   "id": "6fcdfbba-48af-45d2-a5a2-727bf90178d3",
   "metadata": {},
   "outputs": [],
   "source": [
    "kernel = numpyro.infer.HMC(model)"
   ]
  },
  {
   "cell_type": "code",
   "execution_count": 7,
   "id": "13641a89-814f-4e95-8706-37a4342a54e1",
   "metadata": {},
   "outputs": [
    {
     "name": "stderr",
     "output_type": "stream",
     "text": [
      "/tmp/ipykernel_17826/2543069246.py:3: FutureWarning: Some algorithms will automatically enumerate the discrete latent site x of your model. In the future, enumerated sites need to be marked with `infer={'enumerate': 'parallel'}`.\n",
      "  mcmc.run(jax.random.PRNGKey(0), *args, **kwargs)\n",
      "sample: 100%|██████████| 200/200 [00:00<00:00, 247.72it/s, 1 steps of size 4.65e+18. acc. prob=1.00]\n"
     ]
    },
    {
     "ename": "ValueError",
     "evalue": "max() arg is an empty sequence",
     "output_type": "error",
     "traceback": [
      "\u001b[0;31m---------------------------------------------------------------------------\u001b[0m",
      "\u001b[0;31mValueError\u001b[0m                                Traceback (most recent call last)",
      "Cell \u001b[0;32mIn[7], line 1\u001b[0m\n\u001b[0;32m----> 1\u001b[0m \u001b[43mrun_sampler\u001b[49m\u001b[43m(\u001b[49m\u001b[43mkernel\u001b[49m\u001b[43m)\u001b[49m\n",
      "Cell \u001b[0;32mIn[2], line 4\u001b[0m, in \u001b[0;36mrun_sampler\u001b[0;34m(kernel, *args, **kwargs)\u001b[0m\n\u001b[1;32m      2\u001b[0m mcmc \u001b[38;5;241m=\u001b[39m numpyro\u001b[38;5;241m.\u001b[39minfer\u001b[38;5;241m.\u001b[39mMCMC(kernel, num_warmup \u001b[38;5;241m=\u001b[39m \u001b[38;5;241m100\u001b[39m, num_samples \u001b[38;5;241m=\u001b[39m \u001b[38;5;241m100\u001b[39m)\n\u001b[1;32m      3\u001b[0m mcmc\u001b[38;5;241m.\u001b[39mrun(jax\u001b[38;5;241m.\u001b[39mrandom\u001b[38;5;241m.\u001b[39mPRNGKey(\u001b[38;5;241m0\u001b[39m), \u001b[38;5;241m*\u001b[39margs, \u001b[38;5;241m*\u001b[39m\u001b[38;5;241m*\u001b[39mkwargs)\n\u001b[0;32m----> 4\u001b[0m \u001b[43mmcmc\u001b[49m\u001b[38;5;241;43m.\u001b[39;49m\u001b[43mprint_summary\u001b[49m\u001b[43m(\u001b[49m\u001b[43m)\u001b[49m;\n\u001b[1;32m      5\u001b[0m \u001b[38;5;28;01mreturn\u001b[39;00m mcmc\u001b[38;5;241m.\u001b[39mget_samples()\n",
      "File \u001b[0;32m~/.pyenv/versions/playground/lib/python3.11/site-packages/numpyro/infer/mcmc.py:717\u001b[0m, in \u001b[0;36mMCMC.print_summary\u001b[0;34m(self, prob, exclude_deterministic)\u001b[0m\n\u001b[1;32m    711\u001b[0m     \u001b[38;5;28;01mif\u001b[39;00m \u001b[38;5;28misinstance\u001b[39m(state_sample_field, \u001b[38;5;28mdict\u001b[39m):\n\u001b[1;32m    712\u001b[0m         sites \u001b[38;5;241m=\u001b[39m {\n\u001b[1;32m    713\u001b[0m             k: v\n\u001b[1;32m    714\u001b[0m             \u001b[38;5;28;01mfor\u001b[39;00m k, v \u001b[38;5;129;01min\u001b[39;00m \u001b[38;5;28mself\u001b[39m\u001b[38;5;241m.\u001b[39m_states[\u001b[38;5;28mself\u001b[39m\u001b[38;5;241m.\u001b[39m_sample_field]\u001b[38;5;241m.\u001b[39mitems()\n\u001b[1;32m    715\u001b[0m             \u001b[38;5;28;01mif\u001b[39;00m k \u001b[38;5;129;01min\u001b[39;00m state_sample_field\n\u001b[1;32m    716\u001b[0m         }\n\u001b[0;32m--> 717\u001b[0m \u001b[43mprint_summary\u001b[49m\u001b[43m(\u001b[49m\u001b[43msites\u001b[49m\u001b[43m,\u001b[49m\u001b[43m \u001b[49m\u001b[43mprob\u001b[49m\u001b[38;5;241;43m=\u001b[39;49m\u001b[43mprob\u001b[49m\u001b[43m)\u001b[49m\n\u001b[1;32m    718\u001b[0m extra_fields \u001b[38;5;241m=\u001b[39m \u001b[38;5;28mself\u001b[39m\u001b[38;5;241m.\u001b[39mget_extra_fields()\n\u001b[1;32m    719\u001b[0m \u001b[38;5;28;01mif\u001b[39;00m \u001b[38;5;124m\"\u001b[39m\u001b[38;5;124mdiverging\u001b[39m\u001b[38;5;124m\"\u001b[39m \u001b[38;5;129;01min\u001b[39;00m extra_fields:\n",
      "File \u001b[0;32m~/.pyenv/versions/playground/lib/python3.11/site-packages/numpyro/diagnostics.py:302\u001b[0m, in \u001b[0;36mprint_summary\u001b[0;34m(samples, prob, group_by_chain)\u001b[0m\n\u001b[1;32m    296\u001b[0m summary_dict \u001b[38;5;241m=\u001b[39m summary(samples, prob, group_by_chain\u001b[38;5;241m=\u001b[39m\u001b[38;5;28;01mTrue\u001b[39;00m)\n\u001b[1;32m    298\u001b[0m row_names \u001b[38;5;241m=\u001b[39m {\n\u001b[1;32m    299\u001b[0m     k: k \u001b[38;5;241m+\u001b[39m \u001b[38;5;124m\"\u001b[39m\u001b[38;5;124m[\u001b[39m\u001b[38;5;124m\"\u001b[39m \u001b[38;5;241m+\u001b[39m \u001b[38;5;124m\"\u001b[39m\u001b[38;5;124m,\u001b[39m\u001b[38;5;124m\"\u001b[39m\u001b[38;5;241m.\u001b[39mjoin(\u001b[38;5;28mmap\u001b[39m(\u001b[38;5;28;01mlambda\u001b[39;00m x: \u001b[38;5;28mstr\u001b[39m(x \u001b[38;5;241m-\u001b[39m \u001b[38;5;241m1\u001b[39m), v\u001b[38;5;241m.\u001b[39mshape[\u001b[38;5;241m2\u001b[39m:])) \u001b[38;5;241m+\u001b[39m \u001b[38;5;124m\"\u001b[39m\u001b[38;5;124m]\u001b[39m\u001b[38;5;124m\"\u001b[39m\n\u001b[1;32m    300\u001b[0m     \u001b[38;5;28;01mfor\u001b[39;00m k, v \u001b[38;5;129;01min\u001b[39;00m samples\u001b[38;5;241m.\u001b[39mitems()\n\u001b[1;32m    301\u001b[0m }\n\u001b[0;32m--> 302\u001b[0m max_len \u001b[38;5;241m=\u001b[39m \u001b[38;5;28mmax\u001b[39m(\u001b[38;5;28;43mmax\u001b[39;49m\u001b[43m(\u001b[49m\u001b[38;5;28;43mmap\u001b[39;49m\u001b[43m(\u001b[49m\u001b[38;5;28;43;01mlambda\u001b[39;49;00m\u001b[43m \u001b[49m\u001b[43mx\u001b[49m\u001b[43m:\u001b[49m\u001b[43m \u001b[49m\u001b[38;5;28;43mlen\u001b[39;49m\u001b[43m(\u001b[49m\u001b[43mx\u001b[49m\u001b[43m)\u001b[49m\u001b[43m,\u001b[49m\u001b[43m \u001b[49m\u001b[43mrow_names\u001b[49m\u001b[38;5;241;43m.\u001b[39;49m\u001b[43mvalues\u001b[49m\u001b[43m(\u001b[49m\u001b[43m)\u001b[49m\u001b[43m)\u001b[49m\u001b[43m)\u001b[49m, \u001b[38;5;241m10\u001b[39m)\n\u001b[1;32m    303\u001b[0m name_format \u001b[38;5;241m=\u001b[39m \u001b[38;5;124m\"\u001b[39m\u001b[38;5;124m{\u001b[39m\u001b[38;5;124m:>\u001b[39m\u001b[38;5;124m\"\u001b[39m \u001b[38;5;241m+\u001b[39m \u001b[38;5;28mstr\u001b[39m(max_len) \u001b[38;5;241m+\u001b[39m \u001b[38;5;124m\"\u001b[39m\u001b[38;5;124m}\u001b[39m\u001b[38;5;124m\"\u001b[39m\n\u001b[1;32m    304\u001b[0m header_format \u001b[38;5;241m=\u001b[39m name_format \u001b[38;5;241m+\u001b[39m \u001b[38;5;124m\"\u001b[39m\u001b[38;5;124m \u001b[39m\u001b[38;5;132;01m{:>9}\u001b[39;00m\u001b[38;5;124m\"\u001b[39m \u001b[38;5;241m*\u001b[39m \u001b[38;5;241m7\u001b[39m\n",
      "\u001b[0;31mValueError\u001b[0m: max() arg is an empty sequence"
     ]
    }
   ],
   "source": [
    "run_sampler(kernel)"
   ]
  },
  {
   "cell_type": "markdown",
   "id": "a95a305b-80cf-48ad-9089-657bd317c3b5",
   "metadata": {},
   "source": [
    "#### MixedHMC"
   ]
  },
  {
   "cell_type": "code",
   "execution_count": 8,
   "id": "8b3c265f-e8d8-4bf2-96b5-41e47317f82d",
   "metadata": {},
   "outputs": [],
   "source": [
    "inner_kernel = numpyro.infer.HMC(model)\n",
    "kernel = numpyro.infer.MixedHMC(inner_kernel)"
   ]
  },
  {
   "cell_type": "code",
   "execution_count": 9,
   "id": "c9d33fac-94e9-49fd-870e-d05adbf694dc",
   "metadata": {},
   "outputs": [
    {
     "name": "stderr",
     "output_type": "stream",
     "text": [
      "sample: 100%|██████████| 200/200 [00:01<00:00, 106.60it/s, 1 steps of size 4.65e+18. acc. prob=1.00]"
     ]
    },
    {
     "name": "stdout",
     "output_type": "stream",
     "text": [
      "\n",
      "                mean       std    median      5.0%     95.0%     n_eff     r_hat\n",
      "         x      0.42      0.50      0.00      0.00      1.00     98.50      0.99\n",
      "\n"
     ]
    },
    {
     "name": "stderr",
     "output_type": "stream",
     "text": [
      "\n"
     ]
    },
    {
     "data": {
      "text/plain": [
       "{'x': Array([0, 1, 0, 1, 1, 1, 1, 1, 0, 0, 0, 1, 1, 1, 0, 0, 0, 1, 1, 0, 1, 0,\n",
       "        0, 0, 0, 1, 0, 1, 0, 0, 1, 1, 0, 0, 0, 1, 0, 1, 0, 0, 0, 0, 0, 0,\n",
       "        1, 0, 0, 1, 0, 0, 0, 1, 0, 1, 1, 0, 1, 1, 1, 1, 0, 0, 0, 0, 0, 1,\n",
       "        1, 1, 0, 0, 0, 0, 0, 1, 0, 0, 1, 0, 0, 1, 1, 0, 1, 1, 1, 0, 0, 0,\n",
       "        0, 1, 0, 0, 0, 1, 0, 1, 0, 1, 1, 0], dtype=int32)}"
      ]
     },
     "execution_count": 9,
     "metadata": {},
     "output_type": "execute_result"
    }
   ],
   "source": [
    "run_sampler(kernel)"
   ]
  },
  {
   "cell_type": "markdown",
   "id": "9475a773-62af-42ce-b4b0-ef12ed549bc0",
   "metadata": {},
   "source": [
    "#### DiscreteHMCGibbs - NUTS"
   ]
  },
  {
   "cell_type": "code",
   "execution_count": 10,
   "id": "7e31f66d-6fef-4104-89b1-613320a174b7",
   "metadata": {},
   "outputs": [],
   "source": [
    "inner_kernel = numpyro.infer.NUTS(model)\n",
    "kernel = numpyro.infer.DiscreteHMCGibbs(inner_kernel)"
   ]
  },
  {
   "cell_type": "code",
   "execution_count": 11,
   "id": "82138789-e1e3-4ad9-b2ac-a21a88e8f199",
   "metadata": {},
   "outputs": [
    {
     "name": "stderr",
     "output_type": "stream",
     "text": [
      "sample: 100%|██████████| 200/200 [00:01<00:00, 132.10it/s, 1 steps of size 4.65e+18. acc. prob=1.00]"
     ]
    },
    {
     "name": "stdout",
     "output_type": "stream",
     "text": [
      "\n",
      "                mean       std    median      5.0%     95.0%     n_eff     r_hat\n",
      "         x      0.52      0.50      1.00      0.00      1.00     89.64      0.99\n",
      "\n"
     ]
    },
    {
     "name": "stderr",
     "output_type": "stream",
     "text": [
      "\n"
     ]
    },
    {
     "data": {
      "text/plain": [
       "{'x': Array([1, 0, 1, 0, 0, 1, 0, 0, 1, 1, 1, 1, 1, 1, 0, 1, 1, 0, 0, 1, 0, 1,\n",
       "        0, 0, 0, 1, 0, 1, 1, 0, 1, 0, 1, 1, 1, 1, 0, 1, 1, 0, 0, 0, 0, 1,\n",
       "        1, 1, 0, 1, 0, 0, 1, 1, 1, 1, 1, 0, 1, 0, 1, 0, 0, 0, 0, 0, 0, 1,\n",
       "        0, 0, 1, 0, 0, 1, 1, 1, 1, 1, 0, 1, 0, 0, 0, 0, 1, 0, 1, 0, 1, 0,\n",
       "        1, 0, 1, 1, 1, 0, 0, 1, 1, 0, 1, 0], dtype=int32)}"
      ]
     },
     "execution_count": 11,
     "metadata": {},
     "output_type": "execute_result"
    }
   ],
   "source": [
    "run_sampler(kernel)"
   ]
  },
  {
   "cell_type": "markdown",
   "id": "7c9ba45c-69e6-4e02-b0ba-c27c053b671a",
   "metadata": {},
   "source": [
    "#### DiscreteHMCGibbs - HMC"
   ]
  },
  {
   "cell_type": "code",
   "execution_count": 12,
   "id": "58ee38a0-a3ff-4e20-a397-5dfd1f8cf90e",
   "metadata": {},
   "outputs": [],
   "source": [
    "inner_kernel = numpyro.infer.HMC(model)\n",
    "kernel = numpyro.infer.DiscreteHMCGibbs(inner_kernel)"
   ]
  },
  {
   "cell_type": "code",
   "execution_count": 13,
   "id": "5886a63a-cadb-4647-a7ce-9465eb7e767e",
   "metadata": {},
   "outputs": [
    {
     "name": "stderr",
     "output_type": "stream",
     "text": [
      "sample: 100%|██████████| 200/200 [00:01<00:00, 112.92it/s, 1 steps of size 4.65e+18. acc. prob=1.00]"
     ]
    },
    {
     "name": "stdout",
     "output_type": "stream",
     "text": [
      "\n",
      "                mean       std    median      5.0%     95.0%     n_eff     r_hat\n",
      "         x      0.52      0.50      1.00      0.00      1.00     89.64      0.99\n",
      "\n"
     ]
    },
    {
     "name": "stderr",
     "output_type": "stream",
     "text": [
      "\n"
     ]
    },
    {
     "data": {
      "text/plain": [
       "{'x': Array([1, 0, 1, 0, 0, 1, 0, 0, 1, 1, 1, 1, 1, 1, 0, 1, 1, 0, 0, 1, 0, 1,\n",
       "        0, 0, 0, 1, 0, 1, 1, 0, 1, 0, 1, 1, 1, 1, 0, 1, 1, 0, 0, 0, 0, 1,\n",
       "        1, 1, 0, 1, 0, 0, 1, 1, 1, 1, 1, 0, 1, 0, 1, 0, 0, 0, 0, 0, 0, 1,\n",
       "        0, 0, 1, 0, 0, 1, 1, 1, 1, 1, 0, 1, 0, 0, 0, 0, 1, 0, 1, 0, 1, 0,\n",
       "        1, 0, 1, 1, 1, 0, 0, 1, 1, 0, 1, 0], dtype=int32)}"
      ]
     },
     "execution_count": 13,
     "metadata": {},
     "output_type": "execute_result"
    }
   ],
   "source": [
    "run_sampler(kernel)"
   ]
  },
  {
   "cell_type": "markdown",
   "id": "79692b38-c25d-4edd-8ecb-3655598ab6aa",
   "metadata": {},
   "source": [
    "## data selection via discrete latent variable"
   ]
  },
  {
   "cell_type": "code",
   "execution_count": 14,
   "id": "09641087-5ee2-42d3-b1a5-db1689efeded",
   "metadata": {},
   "outputs": [
    {
     "data": {
      "text/plain": [
       "Array([0.7551559 , 0.3129729 , 0.12388372, 0.548188  , 0.4223112 ,\n",
       "       0.30576992, 0.82008433, 0.95633745, 0.3566252 , 0.55691683],      dtype=float32)"
      ]
     },
     "execution_count": 14,
     "metadata": {},
     "output_type": "execute_result"
    }
   ],
   "source": [
    "data = jax.random.uniform(jax.random.PRNGKey(1), (10,))\n",
    "data"
   ]
  },
  {
   "cell_type": "code",
   "execution_count": 15,
   "id": "711bb4c7-de3e-4b93-9d99-fae24f4991ee",
   "metadata": {},
   "outputs": [],
   "source": [
    "def model(data):\n",
    "    i = numpyro.sample('i', numpyro.distributions.DiscreteUniform(low = 0, high = data.size - 1))\n",
    "    x = data[i]\n",
    "    # below does nothing to the posterior, just an example of how sampled indices can be used downstream\n",
    "    numpyro.factor('log_prob', numpyro.distributions.Uniform().log_prob(x))"
   ]
  },
  {
   "cell_type": "markdown",
   "id": "71561a69-e9d1-4ee1-a828-60519d9227cf",
   "metadata": {},
   "source": [
    "#### NUTS"
   ]
  },
  {
   "cell_type": "code",
   "execution_count": 16,
   "id": "1d5b2520-74be-4d4c-8c5b-94cf8b2a8d07",
   "metadata": {},
   "outputs": [],
   "source": [
    "kernel = numpyro.infer.NUTS(model)"
   ]
  },
  {
   "cell_type": "code",
   "execution_count": 17,
   "id": "35d019d8-1ac7-4bbc-9fbc-925b2229a317",
   "metadata": {},
   "outputs": [
    {
     "name": "stderr",
     "output_type": "stream",
     "text": [
      "/tmp/ipykernel_17826/2543069246.py:3: FutureWarning: Some algorithms will automatically enumerate the discrete latent site i of your model. In the future, enumerated sites need to be marked with `infer={'enumerate': 'parallel'}`.\n",
      "  mcmc.run(jax.random.PRNGKey(0), *args, **kwargs)\n",
      "sample: 100%|██████████| 200/200 [00:00<00:00, 219.64it/s, 1 steps of size 4.65e+18. acc. prob=1.00]\n"
     ]
    },
    {
     "ename": "ValueError",
     "evalue": "max() arg is an empty sequence",
     "output_type": "error",
     "traceback": [
      "\u001b[0;31m---------------------------------------------------------------------------\u001b[0m",
      "\u001b[0;31mValueError\u001b[0m                                Traceback (most recent call last)",
      "Cell \u001b[0;32mIn[17], line 1\u001b[0m\n\u001b[0;32m----> 1\u001b[0m \u001b[43mrun_sampler\u001b[49m\u001b[43m(\u001b[49m\u001b[43mkernel\u001b[49m\u001b[43m,\u001b[49m\u001b[43m \u001b[49m\u001b[43mdata\u001b[49m\u001b[43m)\u001b[49m\n",
      "Cell \u001b[0;32mIn[2], line 4\u001b[0m, in \u001b[0;36mrun_sampler\u001b[0;34m(kernel, *args, **kwargs)\u001b[0m\n\u001b[1;32m      2\u001b[0m mcmc \u001b[38;5;241m=\u001b[39m numpyro\u001b[38;5;241m.\u001b[39minfer\u001b[38;5;241m.\u001b[39mMCMC(kernel, num_warmup \u001b[38;5;241m=\u001b[39m \u001b[38;5;241m100\u001b[39m, num_samples \u001b[38;5;241m=\u001b[39m \u001b[38;5;241m100\u001b[39m)\n\u001b[1;32m      3\u001b[0m mcmc\u001b[38;5;241m.\u001b[39mrun(jax\u001b[38;5;241m.\u001b[39mrandom\u001b[38;5;241m.\u001b[39mPRNGKey(\u001b[38;5;241m0\u001b[39m), \u001b[38;5;241m*\u001b[39margs, \u001b[38;5;241m*\u001b[39m\u001b[38;5;241m*\u001b[39mkwargs)\n\u001b[0;32m----> 4\u001b[0m \u001b[43mmcmc\u001b[49m\u001b[38;5;241;43m.\u001b[39;49m\u001b[43mprint_summary\u001b[49m\u001b[43m(\u001b[49m\u001b[43m)\u001b[49m;\n\u001b[1;32m      5\u001b[0m \u001b[38;5;28;01mreturn\u001b[39;00m mcmc\u001b[38;5;241m.\u001b[39mget_samples()\n",
      "File \u001b[0;32m~/.pyenv/versions/playground/lib/python3.11/site-packages/numpyro/infer/mcmc.py:717\u001b[0m, in \u001b[0;36mMCMC.print_summary\u001b[0;34m(self, prob, exclude_deterministic)\u001b[0m\n\u001b[1;32m    711\u001b[0m     \u001b[38;5;28;01mif\u001b[39;00m \u001b[38;5;28misinstance\u001b[39m(state_sample_field, \u001b[38;5;28mdict\u001b[39m):\n\u001b[1;32m    712\u001b[0m         sites \u001b[38;5;241m=\u001b[39m {\n\u001b[1;32m    713\u001b[0m             k: v\n\u001b[1;32m    714\u001b[0m             \u001b[38;5;28;01mfor\u001b[39;00m k, v \u001b[38;5;129;01min\u001b[39;00m \u001b[38;5;28mself\u001b[39m\u001b[38;5;241m.\u001b[39m_states[\u001b[38;5;28mself\u001b[39m\u001b[38;5;241m.\u001b[39m_sample_field]\u001b[38;5;241m.\u001b[39mitems()\n\u001b[1;32m    715\u001b[0m             \u001b[38;5;28;01mif\u001b[39;00m k \u001b[38;5;129;01min\u001b[39;00m state_sample_field\n\u001b[1;32m    716\u001b[0m         }\n\u001b[0;32m--> 717\u001b[0m \u001b[43mprint_summary\u001b[49m\u001b[43m(\u001b[49m\u001b[43msites\u001b[49m\u001b[43m,\u001b[49m\u001b[43m \u001b[49m\u001b[43mprob\u001b[49m\u001b[38;5;241;43m=\u001b[39;49m\u001b[43mprob\u001b[49m\u001b[43m)\u001b[49m\n\u001b[1;32m    718\u001b[0m extra_fields \u001b[38;5;241m=\u001b[39m \u001b[38;5;28mself\u001b[39m\u001b[38;5;241m.\u001b[39mget_extra_fields()\n\u001b[1;32m    719\u001b[0m \u001b[38;5;28;01mif\u001b[39;00m \u001b[38;5;124m\"\u001b[39m\u001b[38;5;124mdiverging\u001b[39m\u001b[38;5;124m\"\u001b[39m \u001b[38;5;129;01min\u001b[39;00m extra_fields:\n",
      "File \u001b[0;32m~/.pyenv/versions/playground/lib/python3.11/site-packages/numpyro/diagnostics.py:302\u001b[0m, in \u001b[0;36mprint_summary\u001b[0;34m(samples, prob, group_by_chain)\u001b[0m\n\u001b[1;32m    296\u001b[0m summary_dict \u001b[38;5;241m=\u001b[39m summary(samples, prob, group_by_chain\u001b[38;5;241m=\u001b[39m\u001b[38;5;28;01mTrue\u001b[39;00m)\n\u001b[1;32m    298\u001b[0m row_names \u001b[38;5;241m=\u001b[39m {\n\u001b[1;32m    299\u001b[0m     k: k \u001b[38;5;241m+\u001b[39m \u001b[38;5;124m\"\u001b[39m\u001b[38;5;124m[\u001b[39m\u001b[38;5;124m\"\u001b[39m \u001b[38;5;241m+\u001b[39m \u001b[38;5;124m\"\u001b[39m\u001b[38;5;124m,\u001b[39m\u001b[38;5;124m\"\u001b[39m\u001b[38;5;241m.\u001b[39mjoin(\u001b[38;5;28mmap\u001b[39m(\u001b[38;5;28;01mlambda\u001b[39;00m x: \u001b[38;5;28mstr\u001b[39m(x \u001b[38;5;241m-\u001b[39m \u001b[38;5;241m1\u001b[39m), v\u001b[38;5;241m.\u001b[39mshape[\u001b[38;5;241m2\u001b[39m:])) \u001b[38;5;241m+\u001b[39m \u001b[38;5;124m\"\u001b[39m\u001b[38;5;124m]\u001b[39m\u001b[38;5;124m\"\u001b[39m\n\u001b[1;32m    300\u001b[0m     \u001b[38;5;28;01mfor\u001b[39;00m k, v \u001b[38;5;129;01min\u001b[39;00m samples\u001b[38;5;241m.\u001b[39mitems()\n\u001b[1;32m    301\u001b[0m }\n\u001b[0;32m--> 302\u001b[0m max_len \u001b[38;5;241m=\u001b[39m \u001b[38;5;28mmax\u001b[39m(\u001b[38;5;28;43mmax\u001b[39;49m\u001b[43m(\u001b[49m\u001b[38;5;28;43mmap\u001b[39;49m\u001b[43m(\u001b[49m\u001b[38;5;28;43;01mlambda\u001b[39;49;00m\u001b[43m \u001b[49m\u001b[43mx\u001b[49m\u001b[43m:\u001b[49m\u001b[43m \u001b[49m\u001b[38;5;28;43mlen\u001b[39;49m\u001b[43m(\u001b[49m\u001b[43mx\u001b[49m\u001b[43m)\u001b[49m\u001b[43m,\u001b[49m\u001b[43m \u001b[49m\u001b[43mrow_names\u001b[49m\u001b[38;5;241;43m.\u001b[39;49m\u001b[43mvalues\u001b[49m\u001b[43m(\u001b[49m\u001b[43m)\u001b[49m\u001b[43m)\u001b[49m\u001b[43m)\u001b[49m, \u001b[38;5;241m10\u001b[39m)\n\u001b[1;32m    303\u001b[0m name_format \u001b[38;5;241m=\u001b[39m \u001b[38;5;124m\"\u001b[39m\u001b[38;5;124m{\u001b[39m\u001b[38;5;124m:>\u001b[39m\u001b[38;5;124m\"\u001b[39m \u001b[38;5;241m+\u001b[39m \u001b[38;5;28mstr\u001b[39m(max_len) \u001b[38;5;241m+\u001b[39m \u001b[38;5;124m\"\u001b[39m\u001b[38;5;124m}\u001b[39m\u001b[38;5;124m\"\u001b[39m\n\u001b[1;32m    304\u001b[0m header_format \u001b[38;5;241m=\u001b[39m name_format \u001b[38;5;241m+\u001b[39m \u001b[38;5;124m\"\u001b[39m\u001b[38;5;124m \u001b[39m\u001b[38;5;132;01m{:>9}\u001b[39;00m\u001b[38;5;124m\"\u001b[39m \u001b[38;5;241m*\u001b[39m \u001b[38;5;241m7\u001b[39m\n",
      "\u001b[0;31mValueError\u001b[0m: max() arg is an empty sequence"
     ]
    }
   ],
   "source": [
    "run_sampler(kernel, data)"
   ]
  },
  {
   "cell_type": "markdown",
   "id": "7167c4f9-8666-4fd1-98ce-b2e752b81662",
   "metadata": {},
   "source": [
    "#### HMC"
   ]
  },
  {
   "cell_type": "code",
   "execution_count": 18,
   "id": "28579a18-6d78-46ac-beca-2ff84d9b6dcc",
   "metadata": {},
   "outputs": [],
   "source": [
    "kernel = numpyro.infer.HMC(model)"
   ]
  },
  {
   "cell_type": "code",
   "execution_count": 19,
   "id": "c10f566a-01ee-4812-9a85-75b5ba6b103b",
   "metadata": {},
   "outputs": [
    {
     "name": "stderr",
     "output_type": "stream",
     "text": [
      "/tmp/ipykernel_17826/2543069246.py:3: FutureWarning: Some algorithms will automatically enumerate the discrete latent site i of your model. In the future, enumerated sites need to be marked with `infer={'enumerate': 'parallel'}`.\n",
      "  mcmc.run(jax.random.PRNGKey(0), *args, **kwargs)\n",
      "sample: 100%|██████████| 200/200 [00:00<00:00, 214.85it/s, 1 steps of size 4.65e+18. acc. prob=1.00]\n"
     ]
    },
    {
     "ename": "ValueError",
     "evalue": "max() arg is an empty sequence",
     "output_type": "error",
     "traceback": [
      "\u001b[0;31m---------------------------------------------------------------------------\u001b[0m",
      "\u001b[0;31mValueError\u001b[0m                                Traceback (most recent call last)",
      "Cell \u001b[0;32mIn[19], line 1\u001b[0m\n\u001b[0;32m----> 1\u001b[0m \u001b[43mrun_sampler\u001b[49m\u001b[43m(\u001b[49m\u001b[43mkernel\u001b[49m\u001b[43m,\u001b[49m\u001b[43m \u001b[49m\u001b[43mdata\u001b[49m\u001b[43m)\u001b[49m\n",
      "Cell \u001b[0;32mIn[2], line 4\u001b[0m, in \u001b[0;36mrun_sampler\u001b[0;34m(kernel, *args, **kwargs)\u001b[0m\n\u001b[1;32m      2\u001b[0m mcmc \u001b[38;5;241m=\u001b[39m numpyro\u001b[38;5;241m.\u001b[39minfer\u001b[38;5;241m.\u001b[39mMCMC(kernel, num_warmup \u001b[38;5;241m=\u001b[39m \u001b[38;5;241m100\u001b[39m, num_samples \u001b[38;5;241m=\u001b[39m \u001b[38;5;241m100\u001b[39m)\n\u001b[1;32m      3\u001b[0m mcmc\u001b[38;5;241m.\u001b[39mrun(jax\u001b[38;5;241m.\u001b[39mrandom\u001b[38;5;241m.\u001b[39mPRNGKey(\u001b[38;5;241m0\u001b[39m), \u001b[38;5;241m*\u001b[39margs, \u001b[38;5;241m*\u001b[39m\u001b[38;5;241m*\u001b[39mkwargs)\n\u001b[0;32m----> 4\u001b[0m \u001b[43mmcmc\u001b[49m\u001b[38;5;241;43m.\u001b[39;49m\u001b[43mprint_summary\u001b[49m\u001b[43m(\u001b[49m\u001b[43m)\u001b[49m;\n\u001b[1;32m      5\u001b[0m \u001b[38;5;28;01mreturn\u001b[39;00m mcmc\u001b[38;5;241m.\u001b[39mget_samples()\n",
      "File \u001b[0;32m~/.pyenv/versions/playground/lib/python3.11/site-packages/numpyro/infer/mcmc.py:717\u001b[0m, in \u001b[0;36mMCMC.print_summary\u001b[0;34m(self, prob, exclude_deterministic)\u001b[0m\n\u001b[1;32m    711\u001b[0m     \u001b[38;5;28;01mif\u001b[39;00m \u001b[38;5;28misinstance\u001b[39m(state_sample_field, \u001b[38;5;28mdict\u001b[39m):\n\u001b[1;32m    712\u001b[0m         sites \u001b[38;5;241m=\u001b[39m {\n\u001b[1;32m    713\u001b[0m             k: v\n\u001b[1;32m    714\u001b[0m             \u001b[38;5;28;01mfor\u001b[39;00m k, v \u001b[38;5;129;01min\u001b[39;00m \u001b[38;5;28mself\u001b[39m\u001b[38;5;241m.\u001b[39m_states[\u001b[38;5;28mself\u001b[39m\u001b[38;5;241m.\u001b[39m_sample_field]\u001b[38;5;241m.\u001b[39mitems()\n\u001b[1;32m    715\u001b[0m             \u001b[38;5;28;01mif\u001b[39;00m k \u001b[38;5;129;01min\u001b[39;00m state_sample_field\n\u001b[1;32m    716\u001b[0m         }\n\u001b[0;32m--> 717\u001b[0m \u001b[43mprint_summary\u001b[49m\u001b[43m(\u001b[49m\u001b[43msites\u001b[49m\u001b[43m,\u001b[49m\u001b[43m \u001b[49m\u001b[43mprob\u001b[49m\u001b[38;5;241;43m=\u001b[39;49m\u001b[43mprob\u001b[49m\u001b[43m)\u001b[49m\n\u001b[1;32m    718\u001b[0m extra_fields \u001b[38;5;241m=\u001b[39m \u001b[38;5;28mself\u001b[39m\u001b[38;5;241m.\u001b[39mget_extra_fields()\n\u001b[1;32m    719\u001b[0m \u001b[38;5;28;01mif\u001b[39;00m \u001b[38;5;124m\"\u001b[39m\u001b[38;5;124mdiverging\u001b[39m\u001b[38;5;124m\"\u001b[39m \u001b[38;5;129;01min\u001b[39;00m extra_fields:\n",
      "File \u001b[0;32m~/.pyenv/versions/playground/lib/python3.11/site-packages/numpyro/diagnostics.py:302\u001b[0m, in \u001b[0;36mprint_summary\u001b[0;34m(samples, prob, group_by_chain)\u001b[0m\n\u001b[1;32m    296\u001b[0m summary_dict \u001b[38;5;241m=\u001b[39m summary(samples, prob, group_by_chain\u001b[38;5;241m=\u001b[39m\u001b[38;5;28;01mTrue\u001b[39;00m)\n\u001b[1;32m    298\u001b[0m row_names \u001b[38;5;241m=\u001b[39m {\n\u001b[1;32m    299\u001b[0m     k: k \u001b[38;5;241m+\u001b[39m \u001b[38;5;124m\"\u001b[39m\u001b[38;5;124m[\u001b[39m\u001b[38;5;124m\"\u001b[39m \u001b[38;5;241m+\u001b[39m \u001b[38;5;124m\"\u001b[39m\u001b[38;5;124m,\u001b[39m\u001b[38;5;124m\"\u001b[39m\u001b[38;5;241m.\u001b[39mjoin(\u001b[38;5;28mmap\u001b[39m(\u001b[38;5;28;01mlambda\u001b[39;00m x: \u001b[38;5;28mstr\u001b[39m(x \u001b[38;5;241m-\u001b[39m \u001b[38;5;241m1\u001b[39m), v\u001b[38;5;241m.\u001b[39mshape[\u001b[38;5;241m2\u001b[39m:])) \u001b[38;5;241m+\u001b[39m \u001b[38;5;124m\"\u001b[39m\u001b[38;5;124m]\u001b[39m\u001b[38;5;124m\"\u001b[39m\n\u001b[1;32m    300\u001b[0m     \u001b[38;5;28;01mfor\u001b[39;00m k, v \u001b[38;5;129;01min\u001b[39;00m samples\u001b[38;5;241m.\u001b[39mitems()\n\u001b[1;32m    301\u001b[0m }\n\u001b[0;32m--> 302\u001b[0m max_len \u001b[38;5;241m=\u001b[39m \u001b[38;5;28mmax\u001b[39m(\u001b[38;5;28;43mmax\u001b[39;49m\u001b[43m(\u001b[49m\u001b[38;5;28;43mmap\u001b[39;49m\u001b[43m(\u001b[49m\u001b[38;5;28;43;01mlambda\u001b[39;49;00m\u001b[43m \u001b[49m\u001b[43mx\u001b[49m\u001b[43m:\u001b[49m\u001b[43m \u001b[49m\u001b[38;5;28;43mlen\u001b[39;49m\u001b[43m(\u001b[49m\u001b[43mx\u001b[49m\u001b[43m)\u001b[49m\u001b[43m,\u001b[49m\u001b[43m \u001b[49m\u001b[43mrow_names\u001b[49m\u001b[38;5;241;43m.\u001b[39;49m\u001b[43mvalues\u001b[49m\u001b[43m(\u001b[49m\u001b[43m)\u001b[49m\u001b[43m)\u001b[49m\u001b[43m)\u001b[49m, \u001b[38;5;241m10\u001b[39m)\n\u001b[1;32m    303\u001b[0m name_format \u001b[38;5;241m=\u001b[39m \u001b[38;5;124m\"\u001b[39m\u001b[38;5;124m{\u001b[39m\u001b[38;5;124m:>\u001b[39m\u001b[38;5;124m\"\u001b[39m \u001b[38;5;241m+\u001b[39m \u001b[38;5;28mstr\u001b[39m(max_len) \u001b[38;5;241m+\u001b[39m \u001b[38;5;124m\"\u001b[39m\u001b[38;5;124m}\u001b[39m\u001b[38;5;124m\"\u001b[39m\n\u001b[1;32m    304\u001b[0m header_format \u001b[38;5;241m=\u001b[39m name_format \u001b[38;5;241m+\u001b[39m \u001b[38;5;124m\"\u001b[39m\u001b[38;5;124m \u001b[39m\u001b[38;5;132;01m{:>9}\u001b[39;00m\u001b[38;5;124m\"\u001b[39m \u001b[38;5;241m*\u001b[39m \u001b[38;5;241m7\u001b[39m\n",
      "\u001b[0;31mValueError\u001b[0m: max() arg is an empty sequence"
     ]
    }
   ],
   "source": [
    "run_sampler(kernel, data)"
   ]
  },
  {
   "cell_type": "markdown",
   "id": "ec8a403c-ecdb-47d8-8a3c-e0355ade3c67",
   "metadata": {},
   "source": [
    "#### MixedHMC"
   ]
  },
  {
   "cell_type": "code",
   "execution_count": 20,
   "id": "15356d5c-c425-489a-9f2f-7f525d235e20",
   "metadata": {},
   "outputs": [],
   "source": [
    "inner_kernel = numpyro.infer.HMC(model)\n",
    "kernel = numpyro.infer.MixedHMC(inner_kernel)"
   ]
  },
  {
   "cell_type": "code",
   "execution_count": 21,
   "id": "c551b3c1-116b-4dca-ae3e-96a362cfc8aa",
   "metadata": {},
   "outputs": [
    {
     "name": "stderr",
     "output_type": "stream",
     "text": [
      "sample: 100%|██████████| 200/200 [00:01<00:00, 108.33it/s, 1 steps of size 4.65e+18. acc. prob=1.00]"
     ]
    },
    {
     "name": "stdout",
     "output_type": "stream",
     "text": [
      "\n",
      "                mean       std    median      5.0%     95.0%     n_eff     r_hat\n",
      "         i      4.43      2.68      4.00      0.00      8.00    115.96      1.01\n",
      "\n"
     ]
    },
    {
     "name": "stderr",
     "output_type": "stream",
     "text": [
      "\n"
     ]
    },
    {
     "data": {
      "text/plain": [
       "{'i': Array([2, 7, 4, 5, 4, 7, 0, 6, 5, 8, 4, 5, 8, 4, 9, 4, 1, 5, 5, 0, 3, 6,\n",
       "        9, 2, 4, 6, 0, 1, 3, 6, 8, 7, 2, 8, 9, 2, 7, 5, 2, 8, 7, 2, 8, 8,\n",
       "        6, 7, 4, 3, 2, 3, 8, 1, 7, 0, 6, 3, 1, 7, 9, 6, 2, 2, 7, 3, 0, 4,\n",
       "        6, 3, 0, 6, 5, 8, 1, 2, 2, 1, 5, 7, 6, 3, 2, 4, 2, 4, 8, 0, 2, 1,\n",
       "        9, 8, 2, 3, 5, 3, 1, 8, 2, 8, 5, 4], dtype=int32)}"
      ]
     },
     "execution_count": 21,
     "metadata": {},
     "output_type": "execute_result"
    }
   ],
   "source": [
    "run_sampler(kernel, data)"
   ]
  },
  {
   "cell_type": "markdown",
   "id": "2c49a458-2a11-404f-8159-101b40e669a2",
   "metadata": {},
   "source": [
    "#### DiscreteHMCGibbs - NUTS"
   ]
  },
  {
   "cell_type": "code",
   "execution_count": 22,
   "id": "052fcca1-3b9a-4a15-af54-1af273d0bbfb",
   "metadata": {},
   "outputs": [],
   "source": [
    "inner_kernel = numpyro.infer.NUTS(model)\n",
    "kernel = numpyro.infer.DiscreteHMCGibbs(inner_kernel)"
   ]
  },
  {
   "cell_type": "code",
   "execution_count": 23,
   "id": "2bde6641-1dca-4a0a-bbd0-a0553271e904",
   "metadata": {},
   "outputs": [
    {
     "name": "stderr",
     "output_type": "stream",
     "text": [
      "sample: 100%|██████████| 200/200 [00:01<00:00, 127.30it/s, 1 steps of size 4.65e+18. acc. prob=1.00]"
     ]
    },
    {
     "name": "stdout",
     "output_type": "stream",
     "text": [
      "\n",
      "                mean       std    median      5.0%     95.0%     n_eff     r_hat\n",
      "         i      4.35      2.74      5.00      1.00      9.00     37.27      0.99\n",
      "\n"
     ]
    },
    {
     "name": "stderr",
     "output_type": "stream",
     "text": [
      "\n"
     ]
    },
    {
     "data": {
      "text/plain": [
       "{'i': Array([5, 0, 8, 3, 3, 1, 0, 5, 0, 3, 3, 5, 2, 5, 2, 0, 3, 1, 7, 3, 6, 1,\n",
       "        6, 5, 6, 9, 2, 7, 2, 1, 8, 7, 9, 3, 5, 5, 2, 5, 9, 2, 4, 5, 5, 1,\n",
       "        4, 4, 5, 8, 9, 9, 0, 5, 6, 7, 2, 7, 6, 9, 6, 3, 9, 8, 6, 6, 9, 5,\n",
       "        2, 5, 7, 0, 7, 8, 6, 2, 1, 1, 4, 2, 3, 3, 9, 9, 2, 3, 5, 1, 6, 5,\n",
       "        7, 2, 5, 5, 3, 1, 1, 5, 1, 0, 7, 0], dtype=int32)}"
      ]
     },
     "execution_count": 23,
     "metadata": {},
     "output_type": "execute_result"
    }
   ],
   "source": [
    "run_sampler(kernel, data)"
   ]
  },
  {
   "cell_type": "markdown",
   "id": "c12f90b1-c060-47cc-b4df-d7a1a9900fc3",
   "metadata": {},
   "source": [
    "#### DiscreteHMCGibbs - HMC"
   ]
  },
  {
   "cell_type": "code",
   "execution_count": 24,
   "id": "76348526-32b8-4275-ade9-bfbea7cbb926",
   "metadata": {},
   "outputs": [],
   "source": [
    "inner_kernel = numpyro.infer.HMC(model)\n",
    "kernel = numpyro.infer.DiscreteHMCGibbs(inner_kernel)"
   ]
  },
  {
   "cell_type": "code",
   "execution_count": 25,
   "id": "bf71ba45-2347-4a4d-83d5-062613d794e6",
   "metadata": {},
   "outputs": [
    {
     "name": "stderr",
     "output_type": "stream",
     "text": [
      "sample: 100%|██████████| 200/200 [00:01<00:00, 108.74it/s, 1 steps of size 4.65e+18. acc. prob=1.00]"
     ]
    },
    {
     "name": "stdout",
     "output_type": "stream",
     "text": [
      "\n",
      "                mean       std    median      5.0%     95.0%     n_eff     r_hat\n",
      "         i      4.35      2.74      5.00      1.00      9.00     37.27      0.99\n",
      "\n"
     ]
    },
    {
     "name": "stderr",
     "output_type": "stream",
     "text": [
      "\n"
     ]
    },
    {
     "data": {
      "text/plain": [
       "{'i': Array([5, 0, 8, 3, 3, 1, 0, 5, 0, 3, 3, 5, 2, 5, 2, 0, 3, 1, 7, 3, 6, 1,\n",
       "        6, 5, 6, 9, 2, 7, 2, 1, 8, 7, 9, 3, 5, 5, 2, 5, 9, 2, 4, 5, 5, 1,\n",
       "        4, 4, 5, 8, 9, 9, 0, 5, 6, 7, 2, 7, 6, 9, 6, 3, 9, 8, 6, 6, 9, 5,\n",
       "        2, 5, 7, 0, 7, 8, 6, 2, 1, 1, 4, 2, 3, 3, 9, 9, 2, 3, 5, 1, 6, 5,\n",
       "        7, 2, 5, 5, 3, 1, 1, 5, 1, 0, 7, 0], dtype=int32)}"
      ]
     },
     "execution_count": 25,
     "metadata": {},
     "output_type": "execute_result"
    }
   ],
   "source": [
    "run_sampler(kernel, data)"
   ]
  },
  {
   "cell_type": "code",
   "execution_count": null,
   "id": "ebbf706a-35a5-4dc7-855c-f80ab84ccd94",
   "metadata": {},
   "outputs": [],
   "source": []
  }
 ],
 "metadata": {
  "kernelspec": {
   "display_name": "playground",
   "language": "python",
   "name": "playground"
  },
  "language_info": {
   "codemirror_mode": {
    "name": "ipython",
    "version": 3
   },
   "file_extension": ".py",
   "mimetype": "text/x-python",
   "name": "python",
   "nbconvert_exporter": "python",
   "pygments_lexer": "ipython3",
   "version": "3.11.5"
  }
 },
 "nbformat": 4,
 "nbformat_minor": 5
}
