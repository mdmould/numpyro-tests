{
 "cells": [
  {
   "cell_type": "code",
   "execution_count": 1,
   "id": "d445a3f7-3e23-4f75-a589-9d10a6860161",
   "metadata": {},
   "outputs": [],
   "source": [
    "import jax\n",
    "import jax.numpy as jnp\n",
    "import numpyro"
   ]
  },
  {
   "cell_type": "code",
   "execution_count": 2,
   "id": "e5b801f6-e5be-4c61-97cf-ea94041fe877",
   "metadata": {},
   "outputs": [],
   "source": [
    "def model():\n",
    "    _n = numpyro.sample('_n', numpyro.distributions.DiscreteUniform())\n",
    "    n = numpyro.deterministic('n', 1 + _n)\n",
    "    x = numpyro.sample('x', numpyro.distributions.Normal(), sample_shape = (n,))"
   ]
  },
  {
   "cell_type": "code",
   "execution_count": 3,
   "id": "ccde8e64-0cc9-44fd-b5dc-eae9a3f8570f",
   "metadata": {},
   "outputs": [
    {
     "name": "stderr",
     "output_type": "stream",
     "text": [
      "sample: 100%|██████████| 200/200 [00:00<00:00, 200.37it/s, 5 steps of size 1.45e+00. acc. prob=0.91]\n"
     ]
    }
   ],
   "source": [
    "# inner_kernel = numpyro.infer.NUTS(model)\n",
    "inner_kernel = numpyro.infer.HMC(model)\n",
    "\n",
    "kernel = numpyro.infer.MixedHMC(inner_kernel)\n",
    "# kernel = numpyro.infer.DiscreteHMCGibbs(inner_kernel)\n",
    "\n",
    "mcmc = numpyro.infer.MCMC(kernel, num_warmup = 100, num_samples = 100)\n",
    "mcmc.run(jax.random.PRNGKey(0))"
   ]
  },
  {
   "cell_type": "code",
   "execution_count": 4,
   "id": "a1eb224c-eb90-44f6-960c-b8791ca7f7a3",
   "metadata": {},
   "outputs": [
    {
     "data": {
      "text/plain": [
       "(100, 1)"
      ]
     },
     "execution_count": 4,
     "metadata": {},
     "output_type": "execute_result"
    }
   ],
   "source": [
    "mcmc.get_samples()['x'].shape"
   ]
  },
  {
   "cell_type": "code",
   "execution_count": 5,
   "id": "cc923c22-9994-493a-a7a0-4bf1f740c94c",
   "metadata": {},
   "outputs": [],
   "source": [
    "def model(max_dim):\n",
    "    _n = numpyro.sample('_n', numpyro.distributions.DiscreteUniform())\n",
    "    n = numpyro.deterministic('n', 1 + _n)\n",
    "    \n",
    "    with numpyro.plate('max_dim', max_dim):\n",
    "        _x = numpyro.sample('_x', numpyro.distributions.Uniform())\n",
    "\n",
    "    x = numpyro.distributions.Normal().icdf(_x)\n",
    "    mask = jnp.arange(max_dim) >= n\n",
    "    x = jnp.where(jnp.arange(max_dim) < n, x, jnp.nan)\n",
    "    x = numpyro.deterministic('x', x)"
   ]
  },
  {
   "cell_type": "code",
   "execution_count": 6,
   "id": "d570d7ff-2163-4381-b8df-d208e8303b6e",
   "metadata": {},
   "outputs": [
    {
     "name": "stderr",
     "output_type": "stream",
     "text": [
      "sample: 100%|██████████| 200/200 [00:01<00:00, 100.52it/s, 7 steps of size 5.35e-01. acc. prob=0.95]\n"
     ]
    }
   ],
   "source": [
    "inner_kernel = numpyro.infer.NUTS(model)\n",
    "# inner_kernel = numpyro.infer.HMC(model)\n",
    "\n",
    "# kernel = numpyro.infer.MixedHMC(inner_kernel)\n",
    "kernel = numpyro.infer.DiscreteHMCGibbs(inner_kernel)\n",
    "\n",
    "mcmc = numpyro.infer.MCMC(kernel, num_warmup = 100, num_samples = 100)\n",
    "mcmc.run(jax.random.PRNGKey(0), max_dim = 2)"
   ]
  },
  {
   "cell_type": "code",
   "execution_count": 7,
   "id": "ef53036a-9cf1-4c56-b867-900bfc192d80",
   "metadata": {},
   "outputs": [
    {
     "data": {
      "text/plain": [
       "{'_n': Array([1, 0, 1, 0, 0, 1, 0, 0, 1, 1, 1, 1, 1, 1, 0, 1, 1, 0, 0, 1, 0, 1,\n",
       "        0, 0, 0, 1, 0, 1, 1, 0, 1, 0, 1, 1, 1, 1, 0, 1, 1, 0, 0, 0, 0, 1,\n",
       "        1, 1, 0, 1, 0, 0, 1, 1, 1, 1, 1, 0, 1, 0, 1, 0, 0, 0, 0, 0, 0, 1,\n",
       "        0, 0, 1, 0, 0, 1, 1, 1, 1, 1, 0, 1, 0, 0, 0, 0, 1, 0, 1, 0, 1, 0,\n",
       "        1, 0, 1, 1, 1, 0, 0, 1, 1, 0, 1, 0], dtype=int32),\n",
       " '_x': Array([[5.32667823e-02, 5.42984962e-01],\n",
       "        [7.29522705e-02, 4.84765112e-01],\n",
       "        [5.31151116e-01, 2.56597310e-01],\n",
       "        [6.52572393e-01, 4.54058528e-01],\n",
       "        [7.51536191e-01, 5.04196107e-01],\n",
       "        [1.11931421e-01, 3.61368567e-01],\n",
       "        [1.90121442e-01, 2.84495354e-01],\n",
       "        [5.26375696e-02, 6.91787839e-01],\n",
       "        [3.24021094e-02, 7.22972274e-01],\n",
       "        [5.18872067e-02, 9.81668055e-01],\n",
       "        [8.45413685e-01, 4.82256353e-01],\n",
       "        [5.64300478e-01, 4.21395868e-01],\n",
       "        [5.64300478e-01, 4.21395868e-01],\n",
       "        [4.29402500e-01, 5.91388226e-01],\n",
       "        [2.20936283e-01, 2.89939493e-01],\n",
       "        [4.47706759e-01, 4.19764876e-01],\n",
       "        [5.19903064e-01, 5.14439046e-01],\n",
       "        [6.66985512e-02, 2.49266818e-01],\n",
       "        [6.68247342e-01, 5.11823773e-01],\n",
       "        [3.39276165e-01, 9.40288842e-01],\n",
       "        [6.20467067e-01, 6.34352505e-01],\n",
       "        [9.97272553e-04, 3.08519721e-01],\n",
       "        [1.38954958e-04, 3.58375400e-01],\n",
       "        [9.99518275e-01, 1.07221171e-01],\n",
       "        [9.98548448e-01, 7.23197460e-01],\n",
       "        [1.42120139e-03, 8.66717458e-01],\n",
       "        [1.16849248e-03, 8.53779912e-01],\n",
       "        [9.98921275e-01, 4.57974553e-01],\n",
       "        [3.51489514e-01, 3.41829568e-01],\n",
       "        [6.90220296e-01, 2.14652270e-02],\n",
       "        [5.30409396e-01, 4.12504748e-03],\n",
       "        [4.45382684e-01, 6.94544017e-02],\n",
       "        [8.49166393e-01, 8.15995336e-01],\n",
       "        [6.83306277e-01, 4.86073047e-01],\n",
       "        [2.00639457e-01, 8.11783731e-01],\n",
       "        [1.18674278e-01, 5.71464062e-01],\n",
       "        [3.46341699e-01, 5.81594408e-01],\n",
       "        [3.89593124e-01, 7.35212207e-01],\n",
       "        [2.09042162e-01, 2.80102581e-01],\n",
       "        [3.46310109e-01, 5.01496792e-01],\n",
       "        [3.46310109e-01, 5.01496792e-01],\n",
       "        [8.96822453e-01, 2.82602280e-01],\n",
       "        [8.96417141e-01, 5.35142720e-02],\n",
       "        [3.78238082e-01, 9.10634279e-01],\n",
       "        [2.76176214e-01, 2.11701468e-01],\n",
       "        [3.24243963e-01, 1.81448221e-01],\n",
       "        [3.40762287e-01, 2.33663898e-02],\n",
       "        [3.70436996e-01, 3.54043953e-02],\n",
       "        [3.40296060e-01, 3.64500642e-01],\n",
       "        [8.70851636e-01, 4.33291227e-01],\n",
       "        [9.46829677e-01, 2.36440357e-03],\n",
       "        [1.78889677e-01, 9.89204228e-01],\n",
       "        [1.19563371e-01, 9.98125613e-01],\n",
       "        [2.13811740e-01, 9.96236622e-01],\n",
       "        [3.91376644e-01, 9.72722709e-01],\n",
       "        [2.45722800e-01, 9.79204476e-01],\n",
       "        [5.80053329e-01, 8.43450893e-03],\n",
       "        [6.64714098e-01, 5.46913734e-03],\n",
       "        [2.88596123e-01, 2.07800493e-02],\n",
       "        [1.57364711e-01, 9.80720997e-01],\n",
       "        [1.25672325e-01, 9.94914651e-01],\n",
       "        [8.73773456e-01, 9.72624719e-01],\n",
       "        [3.57731968e-01, 9.06869113e-01],\n",
       "        [2.62096107e-01, 3.01436007e-01],\n",
       "        [2.20024601e-01, 4.59993243e-01],\n",
       "        [8.12600255e-01, 6.75293684e-01],\n",
       "        [2.56539226e-01, 7.63166368e-01],\n",
       "        [1.55897811e-01, 1.62920371e-01],\n",
       "        [4.09194708e-01, 2.86803633e-01],\n",
       "        [6.43112004e-01, 5.20785153e-01],\n",
       "        [6.83433533e-01, 6.99153721e-01],\n",
       "        [2.88609654e-01, 1.53778434e-01],\n",
       "        [7.28178144e-01, 8.64919424e-01],\n",
       "        [1.87920183e-01, 1.31157935e-01],\n",
       "        [2.88273752e-01, 1.96445137e-01],\n",
       "        [9.19062495e-01, 7.00183034e-01],\n",
       "        [2.48663336e-01, 9.13786948e-01],\n",
       "        [9.66306925e-01, 2.16398135e-01],\n",
       "        [9.71175969e-01, 2.40204170e-01],\n",
       "        [8.21928084e-01, 5.40643275e-01],\n",
       "        [4.48563583e-02, 4.23067212e-01],\n",
       "        [9.24411654e-01, 6.91001117e-01],\n",
       "        [5.63606359e-02, 6.88622177e-01],\n",
       "        [1.48538962e-01, 8.82329464e-01],\n",
       "        [8.02160680e-01, 1.67674914e-01],\n",
       "        [4.94240761e-01, 8.68146598e-01],\n",
       "        [3.45373839e-01, 6.36667609e-01],\n",
       "        [1.48017272e-01, 7.80325949e-01],\n",
       "        [8.90136957e-01, 1.10638544e-01],\n",
       "        [3.22048515e-01, 8.68015885e-01],\n",
       "        [7.33209372e-01, 1.14572749e-01],\n",
       "        [8.88680220e-02, 7.84170866e-01],\n",
       "        [2.15598673e-01, 8.40784609e-01],\n",
       "        [8.75411212e-01, 8.10645938e-01],\n",
       "        [9.20769423e-02, 2.29949623e-01],\n",
       "        [2.03750223e-01, 6.94332838e-01],\n",
       "        [2.61441380e-01, 4.86439824e-01],\n",
       "        [2.33429387e-01, 5.13497353e-01],\n",
       "        [5.73017955e-01, 2.87097245e-01],\n",
       "        [2.88555413e-01, 2.83400863e-01]], dtype=float32),\n",
       " 'n': Array([2, 1, 2, 1, 1, 2, 1, 1, 2, 2, 2, 2, 2, 2, 1, 2, 2, 1, 1, 2, 1, 2,\n",
       "        1, 1, 1, 2, 1, 2, 2, 1, 2, 1, 2, 2, 2, 2, 1, 2, 2, 1, 1, 1, 1, 2,\n",
       "        2, 2, 1, 2, 1, 1, 2, 2, 2, 2, 2, 1, 2, 1, 2, 1, 1, 1, 1, 1, 1, 2,\n",
       "        1, 1, 2, 1, 1, 2, 2, 2, 2, 2, 1, 2, 1, 1, 1, 1, 2, 1, 2, 1, 2, 1,\n",
       "        2, 1, 2, 2, 2, 1, 1, 2, 2, 1, 2, 1], dtype=int32),\n",
       " 'x': Array([[-1.6139717 ,  0.10795666],\n",
       "        [-1.4541507 ,         nan],\n",
       "        [ 0.07816379, -0.6538714 ],\n",
       "        [ 0.39227477,         nan],\n",
       "        [ 0.67933184,         nan],\n",
       "        [-1.2163205 , -0.35480306],\n",
       "        [-0.8774488 ,         nan],\n",
       "        [-1.6198004 ,         nan],\n",
       "        [-1.8466063 ,  0.5916941 ],\n",
       "        [-1.6268246 ,  2.0894873 ],\n",
       "        [ 1.0169595 , -0.0444914 ],\n",
       "        [ 0.16188166, -0.1983238 ],\n",
       "        [ 0.16188166, -0.1983238 ],\n",
       "        [-0.17789556,  0.23111747],\n",
       "        [-0.7690349 ,         nan],\n",
       "        [-0.13145736, -0.20249501],\n",
       "        [ 0.0499103 ,  0.03620123],\n",
       "        [-1.5008394 ,         nan],\n",
       "        [ 0.4350787 ,         nan],\n",
       "        [-0.4144394 ,  1.557203  ],\n",
       "        [ 0.3067077 ,         nan],\n",
       "        [-3.0910435 , -0.5000506 ],\n",
       "        [-3.6350656 ,         nan],\n",
       "        [ 3.3009882 ,         nan],\n",
       "        [ 2.9778159 ,         nan],\n",
       "        [-2.9842868 ,  1.1110076 ],\n",
       "        [-3.0436866 ,         nan],\n",
       "        [ 3.0676556 , -0.10553776],\n",
       "        [-0.38130218, -0.40747502],\n",
       "        [ 0.49647486,         nan],\n",
       "        [ 0.07629902, -2.6416595 ],\n",
       "        [-0.1373358 ,         nan],\n",
       "        [ 1.0328647 ,  0.9002085 ],\n",
       "        [ 0.4769644 , -0.03491679],\n",
       "        [-0.83933926,  0.88448846],\n",
       "        [-1.18164   ,  0.18010278],\n",
       "        [-0.3952161 ,         nan],\n",
       "        [-0.28037965,  0.62865406],\n",
       "        [-0.8097492 , -0.5825368 ],\n",
       "        [-0.39530176,         nan],\n",
       "        [-0.39530176,         nan],\n",
       "        [ 1.2636518 ,         nan],\n",
       "        [ 1.2613974 ,         nan],\n",
       "        [-0.31011152,  1.3446712 ],\n",
       "        [-0.59423876, -0.8005315 ],\n",
       "        [-0.45586377, -0.9098598 ],\n",
       "        [-0.4103836 ,         nan],\n",
       "        [-0.33069617, -1.8067017 ],\n",
       "        [-0.41165528,         nan],\n",
       "        [ 1.1304263 ,         nan],\n",
       "        [ 1.6148617 , -2.8249493 ],\n",
       "        [-0.91960466,  2.2974775 ],\n",
       "        [-1.1771723 ,  2.8985624 ],\n",
       "        [-0.79326487,  2.6725926 ],\n",
       "        [-0.27573282,  1.9224069 ],\n",
       "        [-0.68801135,         nan],\n",
       "        [ 0.20202991, -2.3895502 ],\n",
       "        [ 0.4253634 ,         nan],\n",
       "        [-0.55749065, -2.0378985 ],\n",
       "        [-1.0053476 ,         nan],\n",
       "        [-1.1470895 ,         nan],\n",
       "        [ 1.1444116 ,         nan],\n",
       "        [-0.3645278 ,         nan],\n",
       "        [-0.6368966 ,         nan],\n",
       "        [-0.77211016,         nan],\n",
       "        [ 0.88751906,  0.45457834],\n",
       "        [-0.6540518 ,         nan],\n",
       "        [-1.0114615 ,         nan],\n",
       "        [-0.22961697, -0.5627469 ],\n",
       "        [ 0.36678958,         nan],\n",
       "        [ 0.47732186,         nan],\n",
       "        [-0.557451  , -1.0203619 ],\n",
       "        [ 0.6073122 ,  1.1026915 ],\n",
       "        [-0.8855865 , -1.120934  ],\n",
       "        [-0.5584348 , -0.8543876 ],\n",
       "        [ 1.398793  ,  0.52492696],\n",
       "        [-0.67870206,         nan],\n",
       "        [ 1.8290899 , -0.78441566],\n",
       "        [ 1.8983643 ,         nan],\n",
       "        [ 0.9227378 ,         nan],\n",
       "        [-1.6969151 ,         nan],\n",
       "        [ 1.4353876 ,         nan],\n",
       "        [-1.5860794 ,  0.49194863],\n",
       "        [-1.0427201 ,         nan],\n",
       "        [ 0.8493642 , -0.963394  ],\n",
       "        [-0.01443677,         nan],\n",
       "        [-0.39784062,  0.3495655 ],\n",
       "        [-1.0449748 ,         nan],\n",
       "        [ 1.2272568 , -1.2231395 ],\n",
       "        [-0.4619781 ,         nan],\n",
       "        [ 0.6225485 , -1.202563  ],\n",
       "        [-1.3477585 ,  0.7863571 ],\n",
       "        [-0.78714436,  0.99768764],\n",
       "        [ 1.1523492 ,         nan],\n",
       "        [-1.3280733 ,         nan],\n",
       "        [-0.8283003 ,  0.5081697 ],\n",
       "        [-0.638908  , -0.03399687],\n",
       "        [-0.7275995 ,         nan],\n",
       "        [ 0.18406293, -0.5618848 ],\n",
       "        [-0.55760986,         nan]], dtype=float32)}"
      ]
     },
     "execution_count": 7,
     "metadata": {},
     "output_type": "execute_result"
    }
   ],
   "source": [
    "mcmc.get_samples()"
   ]
  },
  {
   "cell_type": "code",
   "execution_count": 8,
   "id": "a5c4d224-743b-4659-a6fb-0b808258dd02",
   "metadata": {},
   "outputs": [],
   "source": [
    "import numpy as np\n",
    "import matplotlib.pyplot as plt"
   ]
  },
  {
   "cell_type": "code",
   "execution_count": 9,
   "id": "559d3d17-b167-41a3-8ba1-efd415cac78c",
   "metadata": {},
   "outputs": [
    {
     "data": {
      "image/png": "[encoded data removed]",
      "text/plain": [
       "<Figure size 640x480 with 1 Axes>"
      ]
     },
     "metadata": {},
     "output_type": "display_data"
    }
   ],
   "source": [
    "plt.hist(np.array(mcmc.get_samples()['x'][:, 0]));"
   ]
  },
  {
   "cell_type": "code",
   "execution_count": null,
   "id": "c769864f-fbfe-4416-84b3-1c6a233e87e2",
   "metadata": {},
   "outputs": [],
   "source": []
  }
 ],
 "metadata": {
  "kernelspec": {
   "display_name": "playground",
   "language": "python",
   "name": "playground"
  },
  "language_info": {
   "codemirror_mode": {
    "name": "ipython",
    "version": 3
   },
   "file_extension": ".py",
   "mimetype": "text/x-python",
   "name": "python",
   "nbconvert_exporter": "python",
   "pygments_lexer": "ipython3",
   "version": "3.11.5"
  }
 },
 "nbformat": 4,
 "nbformat_minor": 5
}
