{
 "cells": [
  {
   "cell_type": "code",
   "execution_count": 1,
   "id": "7161763e-7bd4-47de-9f28-9bcb7982f363",
   "metadata": {},
   "outputs": [],
   "source": [
    "import numpy as np\n",
    "import matplotlib.pyplot as plt\n",
    "from corner import corner\n",
    "\n",
    "import jax\n",
    "# jax.config.update('jax_enable_x64', True)\n",
    "import jax.numpy as jnp\n",
    "import numpyro\n",
    "\n",
    "from ripplegw.waveforms.IMRPhenomD import gen_IMRPhenomD"
   ]
  },
  {
   "cell_type": "code",
   "execution_count": null,
   "id": "e2ca463b-c1f6-4a90-8a7c-a55847af390d",
   "metadata": {},
   "outputs": [],
   "source": [
    "# @jax.jit\n",
    "def signal_model(f, chirp_mass):\n",
    "    eta, chi1, chi2, dl, tc, phic = 0.25, 0, 0, 1_000, 0, 0\n",
    "    fref = 20.0\n",
    "    theta = jnp.array([chirp_mass, eta, chi1, chi2, dl, tc, phic])\n",
    "    return jnp.real(gen_IMRPhenomD(f, theta, fref)) * 1e24"
   ]
  },
  {
   "cell_type": "code",
   "execution_count": 3,
   "id": "fdbb0773-41db-4afa-a9cd-46c9abea84bd",
   "metadata": {},
   "outputs": [],
   "source": [
    "def noise_model(mean = 0, variance = 1):\n",
    "    return numpyro.distributions.Normal(loc = mean, scale = variance**0.5)"
   ]
  },
  {
   "cell_type": "code",
   "execution_count": null,
   "id": "be21c8aa-07fd-48b4-b652-77774b817d8f",
   "metadata": {},
   "outputs": [],
   "source": [
    "fmin = 20\n",
    "fmax = 2_000\n",
    "N = 1_000\n",
    "chirp_mass = 10\n",
    "mean = 0\n",
    "variance = 1\n",
    "\n",
    "f = jnp.linspace(20, 2_000, 1_000)\n",
    "signal = signal_model(f, 10)\n",
    "noise = noise_model(mean, variance).sample(jax.random.PRNGKey(0), (N,))\n",
    "\n",
    "plt.plot(f, noise, label = 'noise')\n",
    "plt.plot(f, signal + noise, label = 'signal + noise')\n",
    "plt.plot(f, signal, label = 'signal')\n",
    "plt.legend()\n",
    "plt.semilogx()"
   ]
  },
  {
   "cell_type": "code",
   "execution_count": 6,
   "id": "825acec0-0ad0-4708-9c47-2621794841e1",
   "metadata": {},
   "outputs": [],
   "source": [
    "def model(f, data):\n",
    "    chirp_mass = numpyro.sample(\n",
    "        'chirp_mass', numpyro.distributions.Uniform(9, 11),\n",
    "    )\n",
    "    signal = signal_model(f, chirp_mass)\n",
    "    # variance = \n",
    "    print(data.shape, signal.shape)\n",
    "    with numpyro.plate('N', f.size):\n",
    "        numpyro.sample('noise', noise_model(), obs = data - signal)\n",
    "    noise = data - signal\n",
    "    log_lkl = noise_model().log_prob(noise).sum()\n",
    "    print(log_lkl)\n",
    "    numpyro.factor('log_lkl', log_lkl)"
   ]
  },
  {
   "cell_type": "code",
   "execution_count": null,
   "id": "26761597-e6f8-4b67-ad77-fdf2fc068182",
   "metadata": {},
   "outputs": [
    {
     "name": "stdout",
     "output_type": "stream",
     "text": [
      "(1000,) (1000,)\n",
      "-1396.1462\n",
      "(1000,) (1000,)\n",
      "Traced<ConcreteArray(-1396.14599609375, dtype=float32)>with<JVPTrace(level=2/0)> with\n",
      "  primal = Array(-1396.146, dtype=float32)\n",
      "  tangent = Traced<ShapedArray(float32[])>with<JaxprTrace(level=1/0)> with\n",
      "    pval = (ShapedArray(float32[]), None)\n",
      "    recipe = JaxprEqnRecipe(eqn_id=<object object at 0x7fe606cf6270>, in_tracers=(Traced<ShapedArray(float32[1000]):JaxprTrace(level=1/0)>,), out_tracer_refs=[<weakref at 0x7fe5f6719f80; to 'JaxprTracer' at 0x7fe5f671a020>], out_avals=[ShapedArray(float32[])], primitive=pjit, params={'jaxpr': { lambda ; a:f32[1000]. let b:f32[] = reduce_sum[axes=(0,)] a in (b,) }, 'in_shardings': (UnspecifiedValue,), 'out_shardings': (UnspecifiedValue,), 'in_layouts': (None,), 'out_layouts': (None,), 'resource_env': None, 'donated_invars': (False,), 'name': '_reduce_sum', 'keep_unused': False, 'inline': True}, effects=set(), source_info=SourceInfo(traceback=<jaxlib.xla_extension.Traceback object at 0x555e9444a720>, name_stack=NameStack(stack=(Transform(name='jvp'),))), ctx=JaxprEqnContext(compute_type=None,threefry_partitionable=False))\n",
      "(1000,) (1000,)\n",
      "Traced<ShapedArray(float32[])>with<JVPTrace(level=3/0)> with\n",
      "  primal = Traced<ShapedArray(float32[])>with<DynamicJaxprTrace(level=1/0)>\n",
      "  tangent = Traced<ShapedArray(float32[])>with<JaxprTrace(level=2/0)> with\n",
      "    pval = (ShapedArray(float32[]), None)\n",
      "    recipe = JaxprEqnRecipe(eqn_id=<object object at 0x7fe5f66ec7d0>, in_tracers=(Traced<ShapedArray(float32[1000]):JaxprTrace(level=2/0)>,), out_tracer_refs=[<weakref at 0x7fe5fec50e00; to 'JaxprTracer' at 0x7fe5fec50db0>], out_avals=[ShapedArray(float32[])], primitive=pjit, params={'jaxpr': { lambda ; a:f32[1000]. let b:f32[] = reduce_sum[axes=(0,)] a in (b,) }, 'in_shardings': (UnspecifiedValue,), 'out_shardings': (UnspecifiedValue,), 'in_layouts': (None,), 'out_layouts': (None,), 'resource_env': None, 'donated_invars': (False,), 'name': '_reduce_sum', 'keep_unused': False, 'inline': True}, effects=set(), source_info=SourceInfo(traceback=<jaxlib.xla_extension.Traceback object at 0x555e92c7ae10>, name_stack=NameStack(stack=(Transform(name='jvp'),))), ctx=JaxprEqnContext(compute_type=None,threefry_partitionable=False))\n"
     ]
    }
   ],
   "source": [
    "nuts = numpyro.infer.NUTS(\n",
    "    model,\n",
    "    init_strategy = numpyro.infer.init_to_value(\n",
    "        values = dict(chirp_mass = chirp_mass),\n",
    "    ),\n",
    ")\n",
    "mcmc = numpyro.infer.MCMC(nuts, num_warmup = 10_000, num_samples = 10_000)\n",
    "mcmc.run(\n",
    "    jax.random.PRNGKey(1),\n",
    "    f = f, data = signal + noise,\n",
    "    # init_params = jnp.array([chirp_mass]),\n",
    ")\n",
    "mcmc.print_summary()"
   ]
  },
  {
   "cell_type": "code",
   "execution_count": null,
   "id": "60bffd3e-1a33-4dcb-a2e2-132714f41e89",
   "metadata": {},
   "outputs": [],
   "source": []
  }
 ],
 "metadata": {
  "kernelspec": {
   "display_name": "playground",
   "language": "python",
   "name": "playground"
  },
  "language_info": {
   "codemirror_mode": {
    "name": "ipython",
    "version": 3
   },
   "file_extension": ".py",
   "mimetype": "text/x-python",
   "name": "python",
   "nbconvert_exporter": "python",
   "pygments_lexer": "ipython3",
   "version": "3.11.5"
  }
 },
 "nbformat": 4,
 "nbformat_minor": 5
}
